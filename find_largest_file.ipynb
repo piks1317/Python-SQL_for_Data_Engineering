{
 "cells": [
  {
   "cell_type": "code",
   "execution_count": 23,
   "metadata": {},
   "outputs": [
    {
     "data": {
      "text/plain": [
       "{'.\\\\find_largest_file.ipynb': 2308,\n",
       " '.\\\\README.md': 33,\n",
       " '.\\\\.git\\\\config': 322,\n",
       " '.\\\\.git\\\\description': 73,\n",
       " '.\\\\.git\\\\HEAD': 21,\n",
       " '.\\\\.git\\\\index': 137,\n",
       " '.\\\\.git\\\\packed-refs': 112,\n",
       " '.\\\\.git\\\\hooks\\\\applypatch-msg.sample': 478,\n",
       " '.\\\\.git\\\\hooks\\\\commit-msg.sample': 896,\n",
       " '.\\\\.git\\\\hooks\\\\fsmonitor-watchman.sample': 4655,\n",
       " '.\\\\.git\\\\hooks\\\\post-update.sample': 189,\n",
       " '.\\\\.git\\\\hooks\\\\pre-applypatch.sample': 424,\n",
       " '.\\\\.git\\\\hooks\\\\pre-commit.sample': 1643,\n",
       " '.\\\\.git\\\\hooks\\\\pre-merge-commit.sample': 416,\n",
       " '.\\\\.git\\\\hooks\\\\pre-push.sample': 1374,\n",
       " '.\\\\.git\\\\hooks\\\\pre-rebase.sample': 4898,\n",
       " '.\\\\.git\\\\hooks\\\\pre-receive.sample': 544,\n",
       " '.\\\\.git\\\\hooks\\\\prepare-commit-msg.sample': 1492,\n",
       " '.\\\\.git\\\\hooks\\\\push-to-checkout.sample': 2783,\n",
       " '.\\\\.git\\\\hooks\\\\update.sample': 3650,\n",
       " '.\\\\.git\\\\info\\\\exclude': 240,\n",
       " '.\\\\.git\\\\logs\\\\HEAD': 213,\n",
       " '.\\\\.git\\\\logs\\\\refs\\\\heads\\\\main': 213,\n",
       " '.\\\\.git\\\\logs\\\\refs\\\\remotes\\\\origin\\\\HEAD': 213,\n",
       " '.\\\\.git\\\\objects\\\\pack\\\\pack-3b26b83932a5f05f338d8f92478dc37f455301c2.idx': 1156,\n",
       " '.\\\\.git\\\\objects\\\\pack\\\\pack-3b26b83932a5f05f338d8f92478dc37f455301c2.pack': 633,\n",
       " '.\\\\.git\\\\refs\\\\heads\\\\main': 41,\n",
       " '.\\\\.git\\\\refs\\\\remotes\\\\origin\\\\HEAD': 30}"
      ]
     },
     "execution_count": 23,
     "metadata": {},
     "output_type": "execute_result"
    }
   ],
   "source": [
    "import os\n",
    "\n",
    "dirs = {}\n",
    "for root, directories, files in os.walk('.'):\n",
    "    for file in files:\n",
    "        full_path = os.path.join(root, file)\n",
    "        size = os.path.getsize(full_path)\n",
    "        dirs[full_path] = size\n",
    "\n",
    "dirs"
   ]
  },
  {
   "cell_type": "markdown",
   "metadata": {},
   "source": [
    "##### No more than 10 files"
   ]
  },
  {
   "cell_type": "code",
   "execution_count": 21,
   "metadata": {},
   "outputs": [
    {
     "name": "stdout",
     "output_type": "stream",
     "text": [
      "1 Size: 2702, Path: .\\find_largest_file.ipynb\n",
      "2 Size: 33, Path: .\\README.md\n",
      "3 Size: 322, Path: .\\.git\\config\n",
      "4 Size: 73, Path: .\\.git\\description\n",
      "5 Size: 21, Path: .\\.git\\HEAD\n",
      "6 Size: 137, Path: .\\.git\\index\n",
      "7 Size: 112, Path: .\\.git\\packed-refs\n",
      "8 Size: 478, Path: .\\.git\\hooks\\applypatch-msg.sample\n",
      "9 Size: 896, Path: .\\.git\\hooks\\commit-msg.sample\n",
      "10 Size: 4655, Path: .\\.git\\hooks\\fsmonitor-watchman.sample\n"
     ]
    }
   ],
   "source": [
    "num_of_files = 0\n",
    "\n",
    "for path, size in dirs.items():\n",
    "    if num_of_files < 10:\n",
    "        print(f'{num_of_files+1} Size: {size}, Path: {path}')\n",
    "\n",
    "    num_of_files += 1"
   ]
  },
  {
   "cell_type": "markdown",
   "metadata": {},
   "source": [
    "##### Files larger  than a specific size in megabytes"
   ]
  },
  {
   "cell_type": "code",
   "execution_count": 24,
   "metadata": {},
   "outputs": [
    {
     "name": "stdout",
     "output_type": "stream",
     "text": [
      "Size: 2308  Path: .\\find_largest_file.ipynb\n",
      "Size: 4655  Path: .\\.git\\hooks\\fsmonitor-watchman.sample\n",
      "Size: 1643  Path: .\\.git\\hooks\\pre-commit.sample\n",
      "Size: 1374  Path: .\\.git\\hooks\\pre-push.sample\n",
      "Size: 4898  Path: .\\.git\\hooks\\pre-rebase.sample\n",
      "Size: 1492  Path: .\\.git\\hooks\\prepare-commit-msg.sample\n",
      "Size: 2783  Path: .\\.git\\hooks\\push-to-checkout.sample\n",
      "Size: 3650  Path: .\\.git\\hooks\\update.sample\n",
      "Size: 1156  Path: .\\.git\\objects\\pack\\pack-3b26b83932a5f05f338d8f92478dc37f455301c2.idx\n"
     ]
    }
   ],
   "source": [
    "for path, size in dirs.items():\n",
    "    if size > 1000:\n",
    "        print(f'Size: {size}  Path: {path}')"
   ]
  },
  {
   "cell_type": "markdown",
   "metadata": {},
   "source": [
    "##### Finding files that end with <b>.sample</b>"
   ]
  },
  {
   "cell_type": "code",
   "execution_count": 26,
   "metadata": {},
   "outputs": [
    {
     "name": "stdout",
     "output_type": "stream",
     "text": [
      "Size: 478  Path: .\\.git\\hooks\\applypatch-msg.sample\n",
      "Size: 896  Path: .\\.git\\hooks\\commit-msg.sample\n",
      "Size: 4655  Path: .\\.git\\hooks\\fsmonitor-watchman.sample\n",
      "Size: 189  Path: .\\.git\\hooks\\post-update.sample\n",
      "Size: 424  Path: .\\.git\\hooks\\pre-applypatch.sample\n",
      "Size: 1643  Path: .\\.git\\hooks\\pre-commit.sample\n",
      "Size: 416  Path: .\\.git\\hooks\\pre-merge-commit.sample\n",
      "Size: 1374  Path: .\\.git\\hooks\\pre-push.sample\n",
      "Size: 4898  Path: .\\.git\\hooks\\pre-rebase.sample\n",
      "Size: 544  Path: .\\.git\\hooks\\pre-receive.sample\n",
      "Size: 1492  Path: .\\.git\\hooks\\prepare-commit-msg.sample\n",
      "Size: 2783  Path: .\\.git\\hooks\\push-to-checkout.sample\n",
      "Size: 3650  Path: .\\.git\\hooks\\update.sample\n"
     ]
    }
   ],
   "source": [
    "for path, size in dirs.items():\n",
    "    if '.sample' in path:\n",
    "        print(f'Size: {size}  Path: {path}')"
   ]
  },
  {
   "cell_type": "code",
   "execution_count": null,
   "metadata": {},
   "outputs": [],
   "source": []
  }
 ],
 "metadata": {
  "kernelspec": {
   "display_name": "base",
   "language": "python",
   "name": "python3"
  },
  "language_info": {
   "codemirror_mode": {
    "name": "ipython",
    "version": 3
   },
   "file_extension": ".py",
   "mimetype": "text/x-python",
   "name": "python",
   "nbconvert_exporter": "python",
   "pygments_lexer": "ipython3",
   "version": "3.11.4"
  }
 },
 "nbformat": 4,
 "nbformat_minor": 2
}
